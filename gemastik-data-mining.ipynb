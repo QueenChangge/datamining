{
 "cells": [
  {
   "cell_type": "code",
   "execution_count": 3,
   "metadata": {},
   "outputs": [],
   "source": [
    "import pandas as pd\n",
    "import seaborn as sns\n",
    "import matplotlib.pyplot as plt"
   ]
  },
  {
   "cell_type": "code",
   "execution_count": 20,
   "metadata": {},
   "outputs": [
    {
     "data": {
      "text/html": [
       "<div>\n",
       "<style scoped>\n",
       "    .dataframe tbody tr th:only-of-type {\n",
       "        vertical-align: middle;\n",
       "    }\n",
       "\n",
       "    .dataframe tbody tr th {\n",
       "        vertical-align: top;\n",
       "    }\n",
       "\n",
       "    .dataframe thead th {\n",
       "        text-align: right;\n",
       "    }\n",
       "</style>\n",
       "<table border=\"1\" class=\"dataframe\">\n",
       "  <thead>\n",
       "    <tr style=\"text-align: right;\">\n",
       "      <th></th>\n",
       "      <th>Grouping</th>\n",
       "      <th>Age (years)</th>\n",
       "      <th>Education</th>\n",
       "      <th>Working status</th>\n",
       "      <th>Marital status</th>\n",
       "      <th>Menarche (years)</th>\n",
       "      <th>Menopause</th>\n",
       "      <th>First pregnancy</th>\n",
       "      <th>Parity</th>\n",
       "      <th>Breastfeeding</th>\n",
       "      <th>Highfat</th>\n",
       "      <th>BMI</th>\n",
       "      <th>Ethnicity</th>\n",
       "    </tr>\n",
       "  </thead>\n",
       "  <tbody>\n",
       "    <tr>\n",
       "      <th>0</th>\n",
       "      <td>BC</td>\n",
       "      <td>&gt;= 50</td>\n",
       "      <td>Senior high school</td>\n",
       "      <td>Housewife</td>\n",
       "      <td>Marriage</td>\n",
       "      <td>12  to 13</td>\n",
       "      <td>&lt; 50 years</td>\n",
       "      <td>20-29 years</td>\n",
       "      <td>&gt;= Multiparous</td>\n",
       "      <td>&gt;=12 months</td>\n",
       "      <td>Normal</td>\n",
       "      <td>Obesity</td>\n",
       "      <td>Minangnese</td>\n",
       "    </tr>\n",
       "    <tr>\n",
       "      <th>1</th>\n",
       "      <td>Non-BC</td>\n",
       "      <td>&gt;= 50</td>\n",
       "      <td>Vocational degree</td>\n",
       "      <td>Master's student</td>\n",
       "      <td>Single/ widow</td>\n",
       "      <td>&gt;13</td>\n",
       "      <td>&lt; 50 years</td>\n",
       "      <td>&gt;30 years</td>\n",
       "      <td>&gt;= Multiparous</td>\n",
       "      <td>&lt;12 months</td>\n",
       "      <td>High</td>\n",
       "      <td>Normal</td>\n",
       "      <td>Minangnese</td>\n",
       "    </tr>\n",
       "    <tr>\n",
       "      <th>2</th>\n",
       "      <td>BC</td>\n",
       "      <td>&gt;= 50</td>\n",
       "      <td>Senior high school</td>\n",
       "      <td>Housewife</td>\n",
       "      <td>Marriage</td>\n",
       "      <td>7 to 11</td>\n",
       "      <td>&lt; 50 years</td>\n",
       "      <td>20-29 years</td>\n",
       "      <td>&gt;= Multiparous</td>\n",
       "      <td>&gt;=12 months</td>\n",
       "      <td>Normal</td>\n",
       "      <td>Normal</td>\n",
       "      <td>Javanese</td>\n",
       "    </tr>\n",
       "    <tr>\n",
       "      <th>3</th>\n",
       "      <td>Non-BC</td>\n",
       "      <td>&gt;= 50</td>\n",
       "      <td>Senior high school</td>\n",
       "      <td>Master's student</td>\n",
       "      <td>Marriage</td>\n",
       "      <td>12  to 13</td>\n",
       "      <td>&lt; 50 years</td>\n",
       "      <td>20-29 years</td>\n",
       "      <td>Primiparous</td>\n",
       "      <td>&gt;=12 months</td>\n",
       "      <td>High</td>\n",
       "      <td>Normal</td>\n",
       "      <td>Javanese</td>\n",
       "    </tr>\n",
       "    <tr>\n",
       "      <th>4</th>\n",
       "      <td>BC</td>\n",
       "      <td>&gt;= 50</td>\n",
       "      <td>Senior high school</td>\n",
       "      <td>Private servant</td>\n",
       "      <td>Marriage</td>\n",
       "      <td>&gt;13</td>\n",
       "      <td>&lt; 50 years</td>\n",
       "      <td>20-29 years</td>\n",
       "      <td>&gt;= Multiparous</td>\n",
       "      <td>&gt;=12 months</td>\n",
       "      <td>High</td>\n",
       "      <td>Normal</td>\n",
       "      <td>Minangnese</td>\n",
       "    </tr>\n",
       "  </tbody>\n",
       "</table>\n",
       "</div>"
      ],
      "text/plain": [
       "  Grouping Age (years)           Education    Working status Marital status  \\\n",
       "0       BC       >= 50  Senior high school         Housewife       Marriage   \n",
       "1   Non-BC       >= 50   Vocational degree  Master's student  Single/ widow   \n",
       "2       BC       >= 50  Senior high school         Housewife       Marriage   \n",
       "3   Non-BC       >= 50  Senior high school  Master's student       Marriage   \n",
       "4       BC       >= 50  Senior high school   Private servant       Marriage   \n",
       "\n",
       "  Menarche (years)   Menopause First pregnancy          Parity Breastfeeding  \\\n",
       "0        12  to 13  < 50 years     20-29 years  >= Multiparous   >=12 months   \n",
       "1              >13  < 50 years       >30 years  >= Multiparous    <12 months   \n",
       "2          7 to 11  < 50 years     20-29 years  >= Multiparous   >=12 months   \n",
       "3        12  to 13  < 50 years     20-29 years     Primiparous   >=12 months   \n",
       "4              >13  < 50 years     20-29 years  >= Multiparous   >=12 months   \n",
       "\n",
       "  Highfat      BMI   Ethnicity  \n",
       "0  Normal  Obesity  Minangnese  \n",
       "1    High   Normal  Minangnese  \n",
       "2  Normal   Normal    Javanese  \n",
       "3    High   Normal    Javanese  \n",
       "4    High   Normal  Minangnese  "
      ]
     },
     "execution_count": 20,
     "metadata": {},
     "output_type": "execute_result"
    }
   ],
   "source": [
    "df = pd.read_csv('src/gemastik24-data-mining/datasets/breast-cancer.csv') # Ubah sesuai dengan lokasi relatif file breast-cancer.csv\n",
    "df.head()"
   ]
  },
  {
   "cell_type": "markdown",
   "metadata": {},
   "source": [
    "## Klasifikasi dengan Decision Tree"
   ]
  },
  {
   "cell_type": "code",
   "execution_count": 28,
   "metadata": {},
   "outputs": [],
   "source": [
    "from sklearn.preprocessing import LabelEncoder\n",
    "from sklearn.tree import DecisionTreeClassifier\n",
    "from sklearn.model_selection import train_test_split, cross_val_score\n",
    "from sklearn.metrics import classification_report, accuracy_score, precision_score, recall_score, f1_score"
   ]
  },
  {
   "cell_type": "code",
   "execution_count": 29,
   "metadata": {},
   "outputs": [
    {
     "name": "stdout",
     "output_type": "stream",
     "text": [
      "  Grouping  Age (years)  Education  Working status  Marital status  \\\n",
      "0       BC            1          4               3               0   \n",
      "1   Non-BC            1          6               4               1   \n",
      "2       BC            1          4               3               0   \n",
      "3   Non-BC            1          4               4               0   \n",
      "4       BC            1          4               5               0   \n",
      "\n",
      "   Menarche (years)  Menopause  First pregnancy  Parity  Breastfeeding  \\\n",
      "0                 0          0                0       0              1   \n",
      "1                 2          0                2       0              0   \n",
      "2                 1          0                0       0              1   \n",
      "3                 0          0                0       2              1   \n",
      "4                 2          0                0       0              1   \n",
      "\n",
      "   Highfat  BMI  Ethnicity  \n",
      "0        1    1          1  \n",
      "1        0    0          1  \n",
      "2        1    0          0  \n",
      "3        0    0          0  \n",
      "4        0    0          1  \n",
      "Jumlah Data Train: 320\n",
      "Jumlah Data Test: 80\n"
     ]
    }
   ],
   "source": [
    "# Mengubah data kategorikal menjadi numerik\n",
    "label_encoder = LabelEncoder()\n",
    "for column in df.columns.drop('Grouping'):\n",
    "    df[column] = label_encoder.fit_transform(df[column])\n",
    "\n",
    "print(df.head())\n",
    "\n",
    "# Memisahkan atribut dan label\n",
    "X = df.drop('Grouping', axis=1)\n",
    "y = df['Grouping']\n",
    "\n",
    "# Membagi data menjadi data latih dan data uji\n",
    "X_train, X_test, y_train, y_test = train_test_split(X, y, test_size=0.2, random_state=1)\n",
    "print(\"Jumlah Data Train: {}\".format(len(X_train)))\n",
    "print(\"Jumlah Data Test: {}\".format(len(X_test)))"
   ]
  },
  {
   "cell_type": "markdown",
   "metadata": {},
   "source": [
    "Top 5 features berdasarkan proses feature selection:\n",
    "- Highfat: 0.28170292293010674\n",
    "- Working status: 0.15498352704532217\n",
    "- Education: 0.11428131432539225\n",
    "- BMI: 0.06910790838998387\n",
    "- Menarche (years): 0.067373199846954"
   ]
  },
  {
   "cell_type": "code",
   "execution_count": 30,
   "metadata": {},
   "outputs": [
    {
     "name": "stdout",
     "output_type": "stream",
     "text": [
      "              precision    recall  f1-score   support\n",
      "\n",
      "          BC       0.72      0.73      0.73        45\n",
      "      Non-BC       0.65      0.63      0.64        35\n",
      "\n",
      "    accuracy                           0.69        80\n",
      "   macro avg       0.68      0.68      0.68        80\n",
      "weighted avg       0.69      0.69      0.69        80\n",
      "\n",
      "Akurasi: 0.6875\n",
      "Precision: 0.6822250639386189\n",
      "Recall: 0.680952380952381\n",
      "F1 Score: 0.6814779423475075\n"
     ]
    }
   ],
   "source": [
    "# Proses Klasifikasi, dengan semua fitur tanpa tuning parameter\n",
    "clf = DecisionTreeClassifier(random_state=1)\n",
    "clf.fit(X_train, y_train)\n",
    "y_pred = clf.predict(X_test)\n",
    "\n",
    "# Tampilkan hasil klasifikasi dengan classification report\n",
    "print(classification_report(y_test, y_pred))\n",
    "\n",
    "# Tampilkan akurasi, precision, recall, dan f1 score\n",
    "print(\"Akurasi: {}\".format(accuracy_score(y_test, y_pred)))\n",
    "print(\"Precision: {}\".format(precision_score(y_test, y_pred, average='macro')))\n",
    "print(\"Recall: {}\".format(recall_score(y_test, y_pred, average='macro')))\n",
    "print(\"F1 Score: {}\".format(f1_score(y_test, y_pred, average='macro')))\n",
    "\n"
   ]
  },
  {
   "cell_type": "code",
   "execution_count": 32,
   "metadata": {},
   "outputs": [
    {
     "name": "stdout",
     "output_type": "stream",
     "text": [
      "              precision    recall  f1-score   support\n",
      "\n",
      "          BC       0.73      0.89      0.80        45\n",
      "      Non-BC       0.80      0.57      0.67        35\n",
      "\n",
      "    accuracy                           0.75        80\n",
      "   macro avg       0.76      0.73      0.73        80\n",
      "weighted avg       0.76      0.75      0.74        80\n",
      "\n",
      "Akurasi: 0.75\n",
      "Precision: 0.7636363636363637\n",
      "Recall: 0.7301587301587301\n",
      "F1 Score: 0.7333333333333334\n"
     ]
    }
   ],
   "source": [
    "# Proses Klasifikasi, dengan 5 fitur terbaik tanpa tuning parameter\n",
    "top_5 = ['Highfat', 'Working status', 'Education', 'BMI', 'Menarche (years)']\n",
    "clf = DecisionTreeClassifier(random_state=1)\n",
    "clf.fit(X_train[top_5], y_train)\n",
    "y_pred = clf.predict(X_test[top_5])\n",
    "\n",
    "print(classification_report(y_test, y_pred))\n",
    "\n",
    "print(\"Akurasi: {}\".format(accuracy_score(y_test, y_pred)))\n",
    "print(\"Precision: {}\".format(precision_score(y_test, y_pred, average='macro')))\n",
    "print(\"Recall: {}\".format(recall_score(y_test, y_pred, average='macro')))\n",
    "print(\"F1 Score: {}\".format(f1_score(y_test, y_pred, average='macro')))"
   ]
  },
  {
   "cell_type": "code",
   "execution_count": 45,
   "metadata": {},
   "outputs": [
    {
     "name": "stdout",
     "output_type": "stream",
     "text": [
      "Fold ke-1: 0.78125\n",
      "Fold ke-2: 0.65625\n",
      "Fold ke-3: 0.71875\n",
      "Fold ke-4: 0.8125\n",
      "Fold ke-5: 0.65625\n",
      "Fold ke-6: 0.8125\n",
      "Fold ke-7: 0.65625\n",
      "Fold ke-8: 0.53125\n",
      "Fold ke-9: 0.75\n",
      "Fold ke-10: 0.78125\n",
      "Akurasi tertinggi: 0.8125\n"
     ]
    }
   ],
   "source": [
    "# Lakukan cross validation dengan 10 fold dengan StratifiedKFold\n",
    "from sklearn.model_selection import StratifiedKFold\n",
    "\n",
    "skf = StratifiedKFold(n_splits=10, random_state=1, shuffle=True)\n",
    "clf = DecisionTreeClassifier(random_state=1)\n",
    "accuracy_scores = cross_val_score(clf, X_train[top_5], y_train, cv=skf, scoring='accuracy')\n",
    "\n",
    "# Pilih nilai fold dengan akurasi tertinggi\n",
    "for i, acc in enumerate(accuracy_scores):\n",
    "\tprint(\"Fold ke-{}: {}\".format(i+1, acc))\n",
    "\n",
    "print(\"Akurasi tertinggi: {}\".format(accuracy_scores.max()))"
   ]
  },
  {
   "cell_type": "code",
   "execution_count": 43,
   "metadata": {},
   "outputs": [
    {
     "name": "stdout",
     "output_type": "stream",
     "text": [
      "Fold terbaik adalah fold ke-3 dengan akurasi 0.8125\n",
      "Akurasi pada data uji: 0.725\n"
     ]
    }
   ],
   "source": [
    "# Lakukan cross validation dengan 10 fold, kemudian pilih fold yang memiliki akurasi tertinggi untuk digunakan sebagai data uji\n",
    "fold_accuracies = []\n",
    "fold_indices = []\n",
    "\n",
    "kf = StratifiedKFold(n_splits=10, shuffle=True, random_state=1)\n",
    "\n",
    "top_5_X_train = X_train[top_5]\n",
    "\n",
    "# Lakukan 10-fold cross-validation\n",
    "for fold, (train_index, test_index) in enumerate(kf.split(top_5_X_train, y_train)):\n",
    "\tX_train_fold, X_val_fold = top_5_X_train.iloc[train_index], top_5_X_train.iloc[test_index]\n",
    "\ty_train_fold, y_val_fold = y_train.iloc[train_index], y_train.iloc[test_index]\n",
    "\n",
    "\tclf_kflod = DecisionTreeClassifier(random_state=1)\n",
    "\tclf_kflod.fit(X_train_fold, y_train_fold)\n",
    "\n",
    "\taccuracy = clf_kflod.score(X_val_fold, y_val_fold)\n",
    "\tfold_accuracies.append(accuracy)\n",
    "\tfold_indices.append((train_index, test_index))\n",
    "\n",
    "# Ambil fold dengan akurasi tertinggi\n",
    "best_fold_index = fold_accuracies.index(max(fold_accuracies))\n",
    "best_fold_accuracy = fold_accuracies[best_fold_index]\n",
    "best_fold_train_index, best_fold_val_index = fold_indices[best_fold_index]\n",
    "\n",
    "# training ulang model dengan fold terbaik\n",
    "X_train_best_fold = top_5_X_train.iloc[best_fold_train_index]\n",
    "y_train_best_fold = y_train.iloc[best_fold_train_index]\n",
    "X_val_best_fold = top_5_X_train.iloc[best_fold_val_index]\n",
    "y_val_best_fold = y_train.iloc[best_fold_val_index]\n",
    "\n",
    "clf = DecisionTreeClassifier(random_state=1)\n",
    "clf.fit(X_train_best_fold, y_train_best_fold)\n",
    "\n",
    "# Evaluasi model dengan data uji\n",
    "y_pred = clf.predict(X_test[top_5])\n",
    "test_accuracy = accuracy_score(y_test, y_pred)\n",
    "\n",
    "print(\"Fold terbaik adalah fold ke-{} dengan akurasi {}\".format(best_fold_index, best_fold_accuracy))\n",
    "print(\"Akurasi pada data uji: {}\".format(test_accuracy))"
   ]
  },
  {
   "cell_type": "markdown",
   "metadata": {},
   "source": [
    "## Klasifikasi dengan Gradient Boosting Tree"
   ]
  },
  {
   "cell_type": "code",
   "execution_count": null,
   "metadata": {},
   "outputs": [],
   "source": []
  }
 ],
 "metadata": {
  "kernelspec": {
   "display_name": "data-analytics",
   "language": "python",
   "name": "python3"
  },
  "language_info": {
   "codemirror_mode": {
    "name": "ipython",
    "version": 3
   },
   "file_extension": ".py",
   "mimetype": "text/x-python",
   "name": "python",
   "nbconvert_exporter": "python",
   "pygments_lexer": "ipython3",
   "version": "3.10.9"
  }
 },
 "nbformat": 4,
 "nbformat_minor": 2
}
